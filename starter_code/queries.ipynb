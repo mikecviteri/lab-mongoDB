{
 "cells": [
  {
   "cell_type": "markdown",
   "metadata": {},
   "source": [
    "![Ironhack Logo](https://i.imgur.com/1QgrNNw.png)"
   ]
  },
  {
   "cell_type": "code",
   "execution_count": null,
   "metadata": {},
   "outputs": [],
   "source": [
    "# imports\n",
    "from pymongo import MongoClient\n",
    "import pandas as pd\n",
    "import pymongo\n",
    "\n",
    "# connection with mongo\n",
    "client = MongoClient(\"Add client from MongoDB Atlas\")\n",
    "\n",
    "# connection with database \"db_companies\"\n",
    "db = client.db_companies\n",
    "\n",
    "# companies collection\n",
    "collection_companies = db.companies\n",
    "\n",
    "# querying EVERYTHING\n",
    "query = collection_companies.find()\n",
    "\n",
    "# convert to pandas.DataFrame\n",
    "df = pd.DataFrame(query)"
   ]
  },
  {
   "cell_type": "code",
   "execution_count": null,
   "metadata": {},
   "outputs": [],
   "source": [
    "# database = client[\"db_companies\"]\n",
    "# codigo = db[\"companies\"]"
   ]
  },
  {
   "cell_type": "markdown",
   "metadata": {},
   "source": [
    "# Answers\n",
    "### 1. All the companies that it's name match 'Babelgum'. Retrieve only their `name` field."
   ]
  },
  {
   "cell_type": "code",
   "execution_count": null,
   "metadata": {},
   "outputs": [],
   "source": [
    "query = collection_companies.find({\"name\":\"Babelgum\"},{\"name\"})\n",
    "for result in query:\n",
    "    print(result)"
   ]
  },
  {
   "cell_type": "markdown",
   "metadata": {},
   "source": [
    "### 2. All the companies that have more than 5000 employees. Limit the search to 20 companies and sort them by **number of employees**."
   ]
  },
  {
   "cell_type": "code",
   "execution_count": null,
   "metadata": {},
   "outputs": [],
   "source": [
    "query = collection_companies.find({\"number_of_employees\": {\"$gt\": 5000}},{\"name\",\"number_of_employees\"}).limit(20).sort(\"number_of_employees\")\n",
    "for result in query:\n",
    "    print(result)"
   ]
  },
  {
   "cell_type": "markdown",
   "metadata": {},
   "source": [
    "### 3. All the companies founded between 2000 and 2005, both years included. Retrieve only the `name` and `founded_year` fileds."
   ]
  },
  {
   "cell_type": "code",
   "execution_count": null,
   "metadata": {},
   "outputs": [],
   "source": [
    "query = collection_companies.find({\"founded_year\": {\"$gte\": 2000,\"$lte\": 2005}},{\"name\",\"founded_year\"})\n",
    "for result in query:\n",
    "    print(result)"
   ]
  },
  {
   "cell_type": "markdown",
   "metadata": {},
   "source": [
    "### 4. All the companies that had a Valuation Amount of more than 100.000.000 and have been founded before 2010. Retrieve only the `name` and `ipo` fields."
   ]
  },
  {
   "cell_type": "code",
   "execution_count": null,
   "metadata": {},
   "outputs": [],
   "source": [
    "query = collection_companies.find({\"founded_year\": {\"$lt\": 2010}, \"ipo.valuation_amount\": {\"$gt\": 100000000}},{\"name\",\"ipo\"})\n",
    "for result in query:\n",
    "    print(result)"
   ]
  },
  {
   "cell_type": "markdown",
   "metadata": {},
   "source": [
    "### 5. All the companies that have less than 1000 employees and have been founded before 2005. Order them by the number of employees and limit the search to 10 companies."
   ]
  },
  {
   "cell_type": "code",
   "execution_count": null,
   "metadata": {},
   "outputs": [],
   "source": [
    "query = collection_companies.find({\"number_of_employees\": {\"$lt\": 1000}, \"founded_year\": {\"$lt\": 2005}},{\"name\",\"number_of_employees\"}).limit(10).sort(\"number_of_employees\")\n",
    "for result in query:\n",
    "    print(result)"
   ]
  },
  {
   "cell_type": "markdown",
   "metadata": {},
   "source": [
    "### 6. All the companies that don't include the `partners` field."
   ]
  },
  {
   "cell_type": "code",
   "execution_count": null,
   "metadata": {},
   "outputs": [],
   "source": [
    "query = collection_companies.find({\"partners\": []},{\"name\",\"partners\"})\n",
    "for result in query:\n",
    "    print(result)"
   ]
  },
  {
   "cell_type": "markdown",
   "metadata": {},
   "source": [
    "### 7. All the companies that have a null type of value on the `category_code` field."
   ]
  },
  {
   "cell_type": "code",
   "execution_count": null,
   "metadata": {},
   "outputs": [],
   "source": [
    "query = collection_companies.find({\"category_code\": None},{\"name\",\"category_code\"})\n",
    "for result in query:\n",
    "    print(result)"
   ]
  },
  {
   "cell_type": "markdown",
   "metadata": {},
   "source": [
    "### 8. All the companies that have at least 100 employees but less than 1000. Retrieve only the `name` and `number of employees` fields."
   ]
  },
  {
   "cell_type": "code",
   "execution_count": null,
   "metadata": {},
   "outputs": [],
   "source": [
    "query = collection_companies.find({\"number_of_employees\": {\"$gte\": 100, \"$lt\":1000}},{\"name\",\"number_of_employees\"})\n",
    "for result in query:\n",
    "    print(result)"
   ]
  },
  {
   "cell_type": "markdown",
   "metadata": {},
   "source": [
    "### 9. Order all the companies by their IPO price descendently."
   ]
  },
  {
   "cell_type": "code",
   "execution_count": null,
   "metadata": {},
   "outputs": [],
   "source": [
    "query = collection_companies.find({},{\"name\",\"ipo.valuation_amount\"}).sort(\"ipo.valuation_amount\", pymongo.DESCENDING)\n",
    "for result in query:\n",
    "    print(result)"
   ]
  },
  {
   "cell_type": "markdown",
   "metadata": {},
   "source": [
    "### 10. Retrieve the 10 companies with more employees, order by the `number of employees`"
   ]
  },
  {
   "cell_type": "code",
   "execution_count": null,
   "metadata": {},
   "outputs": [],
   "source": [
    "query = collection_companies.find({},{\"name\",\"number_of_employees\"}).limit(10).sort(\"number_of_employees\", pymongo.DESCENDING)\n",
    "for result in query:\n",
    "    print(result)"
   ]
  },
  {
   "cell_type": "markdown",
   "metadata": {},
   "source": [
    "### 11. All the companies founded on the second semester of the year. Limit your search to 1000 companies."
   ]
  },
  {
   "cell_type": "code",
   "execution_count": null,
   "metadata": {},
   "outputs": [],
   "source": [
    "query = collection_companies.find({\"founded_month\": {\"$gte\": 7,\"$lte\": 12}},{\"name\",\"founded_month\"}).limit(1000)\n",
    "for result in query:\n",
    "    print(result)"
   ]
  },
  {
   "cell_type": "markdown",
   "metadata": {},
   "source": [
    "### 12. All the companies that have been 'deadpooled' after the third year."
   ]
  },
  {
   "cell_type": "code",
   "execution_count": 125,
   "metadata": {},
   "outputs": [],
   "source": [
    "# Couldn't query for \"after the third year\"\n",
    "query = collection_companies.find({\"$expr\":{\"$gt\":[\"2010\",{\"$subtract\":[\"$deadpooled_year\",\"$founded_year\"]}]\n",
    "                                           }},{\"name\",\"founded_year\",\"deadpooled_year\"})\n",
    "for result in query:\n",
    "    print(result)"
   ]
  },
  {
   "cell_type": "markdown",
   "metadata": {},
   "source": [
    "### 13. All the companies founded before 2000 that have and acquisition amount of more than 10.000.000"
   ]
  },
  {
   "cell_type": "code",
   "execution_count": null,
   "metadata": {},
   "outputs": [],
   "source": [
    "query = collection_companies.find({\"founded_year\":{\"$lt\": 2000}, \"acquisition.price_amount\":{\"$gt\": 10000000}},{\"name\",\"founded_year\",\"acquisition.price_amount\"})\n",
    "for result in query:\n",
    "    print(result)"
   ]
  },
  {
   "cell_type": "markdown",
   "metadata": {},
   "source": [
    "### 14. All the companies that have been acquired after 2015, order by the acquisition amount, and retrieve only their `name` and `acquisiton` field."
   ]
  },
  {
   "cell_type": "code",
   "execution_count": 130,
   "metadata": {},
   "outputs": [],
   "source": [
    "query = collection_companies.find({\"acquisition.acquired_year\":{\"$gt\": 2015}},\n",
    "                                  {\"name\",\"acquisition.price_amount\"}).sort(\"acquisition.price_amount\",-1)\n",
    "for result in query:\n",
    "    print(result)"
   ]
  },
  {
   "cell_type": "markdown",
   "metadata": {},
   "source": [
    "### 15. Order the companies by their `founded year`, retrieving only their `name` and `founded year`."
   ]
  },
  {
   "cell_type": "code",
   "execution_count": null,
   "metadata": {},
   "outputs": [],
   "source": [
    "query = collection_companies.find({},\n",
    "                                  {\"name\",\"founded_year\"}).sort(\"founded_year\",pymongo.DESCENDING)\n",
    "for result in query:\n",
    "    print(result)"
   ]
  },
  {
   "cell_type": "markdown",
   "metadata": {},
   "source": [
    "### 16. All the companies that have been founded on the first seven days of the month, including the seventh. Sort them by their `aquisition price` descendently. Limit the search to 10 documents."
   ]
  },
  {
   "cell_type": "code",
   "execution_count": null,
   "metadata": {},
   "outputs": [],
   "source": [
    "query = collection_companies.find({\"founded_day\": {\"$lte\": 7}},\n",
    "                                  {\"name\",\"acquisition.price_amount\"}).limit(10).sort(\"acquisition.price_amount\",pymongo.DESCENDING)\n",
    "for result in query:\n",
    "    print(result)"
   ]
  },
  {
   "cell_type": "markdown",
   "metadata": {},
   "source": [
    "### 17. All the companies on the 'web' `category` that have more than 4000 employees. Sort them by the amount of employees in ascendant order."
   ]
  },
  {
   "cell_type": "code",
   "execution_count": null,
   "metadata": {},
   "outputs": [],
   "source": [
    "query = collection_companies.find({\"category_code\": 'web', \"number_of_employees\":{\"$gte\":4000}}, \n",
    "                                  {\"name\",\"category_code\",\"number_of_employees\"}).sort(\"number_of_employees\")\n",
    "for result in query:\n",
    "    print(result)"
   ]
  },
  {
   "cell_type": "markdown",
   "metadata": {},
   "source": [
    "### 18. All the companies which their acquisition amount is more than 10.000.000, and currency are 'EUR'.\n"
   ]
  },
  {
   "cell_type": "code",
   "execution_count": null,
   "metadata": {},
   "outputs": [],
   "source": [
    "query = collection_companies.find({\"acquisition.price_currency_code\": 'EUR', \"acquisition.price_amount\":\n",
    "                                   {\"$gte\":10000000}}, \n",
    "                                  {\"acquisition.price_currency_code\",\"acquisition.price_amount\"})\n",
    "for result in query:\n",
    "    print(result)"
   ]
  },
  {
   "cell_type": "markdown",
   "metadata": {},
   "source": [
    "### 19. All the companies that have been acquired on the first trimester of the year. Limit the search to 10 companies, and retrieve only their `name` and `acquisition` fields."
   ]
  },
  {
   "cell_type": "code",
   "execution_count": null,
   "metadata": {},
   "outputs": [],
   "source": [
    "query = collection_companies.find({\"acquisition.acquired_month\": {\"$lte\":3}}, {\"name\",\"acquisition\"}).limit(10)\n",
    "for result in query:\n",
    "    print(result)"
   ]
  },
  {
   "cell_type": "markdown",
   "metadata": {},
   "source": [
    "### 20. All the companies that have been founded between 2000 and 2010, but have not been acquired before 2011."
   ]
  },
  {
   "cell_type": "code",
   "execution_count": null,
   "metadata": {},
   "outputs": [],
   "source": [
    "query = collection_companies.find({\"founded_year\": {\"$gte\": 2000,\"$lte\": 2010}, \n",
    "                                  \"acquisition.acquired_year\": {\"$gt\":2011}},\n",
    "                                  {\"name\",\"founded_year\",\"acquisition.acquired_year\"})\n",
    "for result in query:\n",
    "    print(result)"
   ]
  }
 ],
 "metadata": {
  "kernelspec": {
   "display_name": "Python 3",
   "language": "python",
   "name": "python3"
  },
  "language_info": {
   "codemirror_mode": {
    "name": "ipython",
    "version": 3
   },
   "file_extension": ".py",
   "mimetype": "text/x-python",
   "name": "python",
   "nbconvert_exporter": "python",
   "pygments_lexer": "ipython3",
   "version": "3.8.3"
  }
 },
 "nbformat": 4,
 "nbformat_minor": 2
}
